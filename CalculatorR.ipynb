{
  "nbformat": 4,
  "nbformat_minor": 0,
  "metadata": {
    "colab": {
      "provenance": [],
      "authorship_tag": "ABX9TyNQX7ybmgkmGR4befiyUv39",
      "include_colab_link": true
    },
    "kernelspec": {
      "name": "python3",
      "display_name": "Python 3"
    },
    "language_info": {
      "name": "python"
    }
  },
  "cells": [
    {
      "cell_type": "markdown",
      "metadata": {
        "id": "view-in-github",
        "colab_type": "text"
      },
      "source": [
        "<a href=\"https://colab.research.google.com/github/ROBS11/Projects/blob/main/CalculatorR.ipynb\" target=\"_parent\"><img src=\"https://colab.research.google.com/assets/colab-badge.svg\" alt=\"Open In Colab\"/></a>"
      ]
    },
    {
      "cell_type": "code",
      "execution_count": 1,
      "metadata": {
        "colab": {
          "base_uri": "https://localhost:8080/"
        },
        "id": "8BU56JqyP4VP",
        "outputId": "66651249-5205-4817-a81d-ee177e147db2"
      },
      "outputs": [
        {
          "output_type": "stream",
          "name": "stdout",
          "text": [
            "Introduce el primer número: 983\n",
            "Introduce la operación (suma, resta, multiplica, division): division\n",
            "Introduce el segundo número: 45\n",
            "Resultado: 21.844444444444445\n"
          ]
        }
      ],
      "source": [
        "# Calculadora\n",
        "def suma(n1, n2):\n",
        "    return n1 + n2\n",
        "def resta(n1, n2):\n",
        "    return n1 - n2\n",
        "\n",
        "def multiplicacion(n1, n2):\n",
        "    return n1 * n2\n",
        "\n",
        "def division(n1, n2):\n",
        "    if n2 != 0:\n",
        "        return n1 / n2\n",
        "    else:\n",
        "        return \"Error: Division por cero\"\n",
        "def calculadora():\n",
        "    n1 = float(input(\"Introduce el primer número: \"))\n",
        "    op = input(\"Introduce la operación (suma, resta, multiplica, division): \").strip().lower()\n",
        "    n2 = float(input(\"Introduce el segundo número: \"))\n",
        "\n",
        "    if  op == \"suma\":\n",
        "        print(\"Resultado:\", suma(n1, n2))\n",
        "    elif op == \"resta\":\n",
        "        print(\"Resultado:\", resta(n1, n2))\n",
        "    elif op == \"multiplica\":\n",
        "        print(\"Resultado:\", multiplicacion(n1, n2))\n",
        "    elif op == \"division\":\n",
        "        print(\"Resultado:\", division(n1,n2))\n",
        "    else:\n",
        "        print(\"Operación no valida\")\n",
        "calculadora()\n"
      ]
    }
  ]
}